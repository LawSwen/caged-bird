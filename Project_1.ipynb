{
 "cells": [
  {
   "cell_type": "code",
   "execution_count": null,
   "id": "37271756-d61b-44ad-b906-55f3db020a0a",
   "metadata": {},
   "outputs": [],
   "source": [
    "Using Machine Learn to Predict Fetal Health"
   ]
  },
  {
   "cell_type": "code",
   "execution_count": 18,
   "id": "2fbe584f-29b8-45ea-9236-c9d978b974c4",
   "metadata": {},
   "outputs": [],
   "source": [
    "import pandas as pd\n",
    "import numpy as np\n",
    "import matplotlib.pyplot as plt\n",
    "from sklearn.preprocessing import StandardScaler\n",
    "import pandas as pd\n",
    "import numpy as np\n",
    "import seaborn as sns\n",
    "import matplotlib.pyplot as plt\n",
    "import random\n",
    "from random import randint\n",
    "from sklearn.metrics import confusion_matrix, ConfusionMatrixDisplay\n",
    "from sklearn.metrics import accuracy_score, precision_score, recall_score, f1_score\n",
    "import time"
   ]
  },
  {
   "cell_type": "code",
   "execution_count": 3,
   "id": "8aa451cd-ead6-4c8e-bb92-8c2e6ce67f03",
   "metadata": {},
   "outputs": [],
   "source": [
    "#load the dataset\n",
    "file = \"\\\\Users\\\\Lawrence Swen Tuah\\\\Downloads\\\\fetal_health.csv\"\n",
    "mydata = pd.read_csv(file)"
   ]
  },
  {
   "cell_type": "code",
   "execution_count": null,
   "id": "1f2b7b47-c326-4f61-b6d1-88c309fb5d19",
   "metadata": {
    "scrolled": true
   },
   "outputs": [],
   "source": [
    "# Examine the shape and head of the Data...\n",
    "mydata.head()\n",
    "print(mydata.shape)\n",
    "print(mydata.columns)"
   ]
  },
  {
   "cell_type": "code",
   "execution_count": null,
   "id": "95cada96-7dfd-4682-a512-0f3b6fe2fefe",
   "metadata": {},
   "outputs": [],
   "source": [
    "# Examine the shape and head of the Data...\n",
    "mydata.info()"
   ]
  },
  {
   "cell_type": "code",
   "execution_count": 5,
   "id": "18944794-cbb5-41c5-9c8d-028a5160175b",
   "metadata": {},
   "outputs": [
    {
     "data": {
      "text/plain": [
       "False"
      ]
     },
     "execution_count": 5,
     "metadata": {},
     "output_type": "execute_result"
    }
   ],
   "source": [
    "# Check for missing values and null value in the data\n",
    "any(mydata.isna().any())"
   ]
  },
  {
   "cell_type": "code",
   "execution_count": null,
   "id": "6c3df080-70f2-4a30-b0a2-f8edf3a47b5c",
   "metadata": {},
   "outputs": [],
   "source": [
    "# If any missing values, find the proporting of missing values \n",
    "# Fourtunately, this is a real stduy data that is properly cleaned and processed.. \n",
    "missing_percentage = (mydata.isna().sum() / len(mydata)) * 100\n",
    "print(missing_percentage)"
   ]
  },
  {
   "cell_type": "code",
   "execution_count": 8,
   "id": "c677ffa5-ad96-494c-b3f4-e95465089f4d",
   "metadata": {},
   "outputs": [
    {
     "data": {
      "text/plain": [
       "fetal_health\n",
       "1.0    1655\n",
       "2.0     295\n",
       "3.0     176\n",
       "Name: count, dtype: int64"
      ]
     },
     "execution_count": 8,
     "metadata": {},
     "output_type": "execute_result"
    }
   ],
   "source": [
    "# Examine the values count of the target variable...\n",
    "mydata['fetal_health'].value_counts()"
   ]
  },
  {
   "cell_type": "code",
   "execution_count": 9,
   "id": "91bc95de-6cd3-4ecb-9f67-4280d187e1d4",
   "metadata": {},
   "outputs": [
    {
     "name": "stdout",
     "output_type": "stream",
     "text": [
      "(2126, 21) (2126,)\n"
     ]
    },
    {
     "data": {
      "text/plain": [
       "fetal_health\n",
       "1.0    1655\n",
       "2.0     295\n",
       "3.0     176\n",
       "Name: count, dtype: int64"
      ]
     },
     "execution_count": 9,
     "metadata": {},
     "output_type": "execute_result"
    }
   ],
   "source": [
    "# Get the target variable\n",
    "mydataX = mydata.drop(columns=[\"fetal_health\"])\n",
    "mydataY = mydata[\"fetal_health\"]\n",
    "print(mydataX.shape, mydataY.shape)\n",
    "\n",
    "mydataY.value_counts()"
   ]
  },
  {
   "cell_type": "code",
   "execution_count": null,
   "id": "0fb91b01-1598-4ebe-a9b4-e3d0b063d849",
   "metadata": {},
   "outputs": [],
   "source": [
    "# Standardize the features of X with a mean of 0 and an sd of 1... \n",
    "# This ensures that all features are weighted on the same skills... \n",
    "from sklearn.preprocessing import StandardScaler\n",
    "scaler = StandardScaler()\n",
    "mydata_scaled = pd.DataFrame(scaler.fit_transform(mydataX), columns=mydataX.columns)\n",
    "mydata_scaled"
   ]
  },
  {
   "cell_type": "code",
   "execution_count": null,
   "id": "b2b1529d-bbb1-4a9d-89c1-8c1293df2af4",
   "metadata": {},
   "outputs": [],
   "source": [
    "# draw a correlation matrix between the features to examin relationships... \n",
    "correlation_matrix = mydata_scaled.corr().round(3)\n",
    "correlation_matrix"
   ]
  },
  {
   "cell_type": "code",
   "execution_count": null,
   "id": "9ca9e509-08a7-4625-a614-eafd831103e0",
   "metadata": {},
   "outputs": [],
   "source": [
    "# Plot the correlation matrix between the features to examin relationships... \n",
    "sns.set(style=\"white\")  # Optional styling\n",
    "plt.figure(figsize=(18, 10))\n",
    "sns.heatmap(correlation_matrix, annot=True, cmap=\"RdBu\", fmt=\".2f\")\n",
    "\n",
    "# Show the plot\n",
    "plt.title(\"Correlation Plot\")\n",
    "plt.show()\n"
   ]
  },
  {
   "cell_type": "code",
   "execution_count": 13,
   "id": "168f8af4-2f9f-451d-a035-b6b3dd2792a9",
   "metadata": {},
   "outputs": [],
   "source": [
    "# Split the data using Hold-out method.  Stratify the data to ensure equal proportion  for both the training and test set.. \n",
    "from sklearn.model_selection import train_test_split\n",
    "X_train, X_test, y_train, y_test = train_test_split(mydata_scaled, mydataY, stratify=mydataY, test_size=0.3, random_state=42)"
   ]
  },
  {
   "cell_type": "code",
   "execution_count": null,
   "id": "35d95b9e-4f60-457c-8368-75fd43602e12",
   "metadata": {},
   "outputs": [],
   "source": [
    "# Train a baseline model using dummy classfier.. This is a simple model that will be used to test the need for further complex model.. \n",
    "from sklearn.dummy import DummyClassifier\n",
    "from sklearn.metrics import accuracy_score, classification_report\n",
    "baseline = DummyClassifier(strategy=\"stratified\").fit(X_train, y_train)\n",
    "y_pred = baseline.predict(X_test)\n",
    "baseline_accuracy = accuracy_score(y_test, y_pred)\n",
    "confu_matrix = confusion_matrix(y_test, y_pred)\n",
    "print(classification_report(y_test, y_pred))\n",
    "print(baseline_accuracy)\n",
    "print(confu_matrix)\n",
    "\n",
    "\n",
    "#Note.. The baseline model perform poorly on the classes that are\n",
    "# underrepresented thus showing the impact of class imbalance on model fit \n",
    "\n",
    "#Before going any further, it is good note in the case of class imbalanace,\n",
    "#accuracy is not a good measure of model-fit as it tends to give more weight \n",
    "# to the most popular class.. \n",
    "# Insteand, Recall, precision and F1 score tend to be more appreciated in this case..."
   ]
  },
  {
   "cell_type": "code",
   "execution_count": 54,
   "id": "340fc700-e603-4f5e-ac74-ee33b00435e2",
   "metadata": {},
   "outputs": [
    {
     "name": "stdout",
     "output_type": "stream",
     "text": [
      "Evaulation Metrics of Random Forest:\n",
      "Accuracy_DU: 0.638, Precision_DU: 0.63, Recall_DU: 0.64,F1_Score_DU:0.63\n",
      "Classification Report:\n",
      "              precision    recall  f1-score   support\n",
      "\n",
      "         1.0       0.78      0.79      0.78       497\n",
      "         2.0       0.13      0.14      0.14        88\n",
      "         3.0       0.07      0.06      0.06        53\n",
      "\n",
      "    accuracy                           0.64       638\n",
      "   macro avg       0.33      0.33      0.33       638\n",
      "weighted avg       0.63      0.64      0.63       638\n",
      "\n"
     ]
    }
   ],
   "source": [
    "Dummy = accuracy_score(y_test, y_pred,)\n",
    "Precision_DU = precision_score(y_test, y_pred, average='weighted')\n",
    "Recall_DU = recall_score(y_test, y_pred, average='weighted')\n",
    "F1_DU = f1_score(y_test, y_pred, average='weighted')\n",
    "Classification_Report_DU = classification_report(y_test, y_pred)\n",
    "\n",
    "#\n",
    "#These weighted scores of Precision, Recall and give a fair appreciation of the model performance \n",
    "print(\"Evaulation Metrics of Random Forest:\")\n",
    "print(f\"Accuracy_DU: {round(Dummy, 3)}, Precision_DU: {round(Precision_DU, 2)}, Recall_DU: {round(Recall_DU, 2)},\\\n",
    "F1_Score_DU:{round(F1_DU, 2)}\")\n",
    "print(\"Classification Report:\")\n",
    "print(Classification_Report_DU)"
   ]
  },
  {
   "cell_type": "code",
   "execution_count": 36,
   "id": "2d685e91-d8f1-456a-81f0-b282af9da00f",
   "metadata": {},
   "outputs": [
    {
     "name": "stdout",
     "output_type": "stream",
     "text": [
      "Best Hyperparameters: {'min_samples_split': 5, 'min_samples_leaf': 1, 'max_depth': 5, 'criterion': 'log_loss', 'class_weight': None}\n",
      "\n",
      "Accuracy: 0.9\n",
      "\n",
      "              precision    recall  f1-score     support\n",
      "1.0            0.914934  0.973843  0.943470  497.000000\n",
      "2.0            0.809524  0.579545  0.675497   88.000000\n",
      "3.0            0.869565  0.754717  0.808081   53.000000\n",
      "accuracy       0.901254  0.901254  0.901254    0.901254\n",
      "macro avg      0.864674  0.769368  0.809016  638.000000\n",
      "weighted avg   0.896626  0.901254  0.895261  638.000000\n",
      "[[484   9   4]\n",
      " [ 35  51   2]\n",
      " [ 10   3  40]]\n",
      "0.3731067180633545\n"
     ]
    }
   ],
   "source": [
    "# Train the first model using decision trees and with hyperparameter tuning and random search to select the optimal model.. 4\n",
    "from sklearn.model_selection import RandomizedSearchCV\n",
    "from sklearn.tree import DecisionTreeClassifier\n",
    "from sklearn.metrics import accuracy_score, classification_report\n",
    "\n",
    "\n",
    "# jsut for curiosity, you copuld choose to calculate the time for the model to run so as to make\n",
    "# a comparison between random search and grid search\n",
    "# Prepare the hyperparmter value\n",
    "\n",
    "start_time = time.time()\n",
    "param_dist = {\n",
    "    'criterion': ['gini', 'entropy', 'log_loss'],\n",
    "    'max_depth': [5, 3, 8],\n",
    "    'min_samples_split': [2, 5, 10],\n",
    "    'min_samples_leaf': [1, 2, 4],\n",
    "    'class_weight': [None, 'balanced']\n",
    "}\n",
    "\n",
    "\n",
    "\n",
    "# Estimate the model\n",
    "model = DecisionTreeClassifier()\n",
    "\n",
    "random_search= RandomizedSearchCV(estimator=model, param_distributions= param_dist, cv= randint(3, 9), n_iter=5, random_state=42)\n",
    "random_search.fit(X_train, y_train)\n",
    "\n",
    "\n",
    "best_model = random_search.best_estimator_\n",
    "\n",
    "y_predict = best_model.predict(X_test)\n",
    "accuracy = round(accuracy_score(y_test, y_predict), 2)\n",
    "\n",
    "confu_matrix = confusion_matrix(y_test, y_predict)\n",
    "disp = ConfusionMatrixDisplay(confusion_matrix=cm,\n",
    "                             display_labels=best_model.classes_)\n",
    "\n",
    "end_time = time.time() \n",
    "elasped_time = end_time - start_time\n",
    "print(\"Best Hyperparameters:\", random_search.best_params_)\n",
    "print()\n",
    "print(\"Accuracy:\", accuracy)\n",
    "print()\n",
    "class_report = classification_report(y_test, y_predict, output_dict=True)\n",
    "myreport = pd.DataFrame(class_report).transpose()\n",
    "print(myreport)\n",
    "\n",
    "print(confu_matrix)\n",
    "print(elasped_time)\n",
    "\n",
    "\n",
    "# While Decison tree perform better then dummy classfier, it stills suffers from significant class imbalanced"
   ]
  },
  {
   "cell_type": "code",
   "execution_count": 39,
   "id": "8e6b0f06-03f8-4c1c-814a-63cfce54a07c",
   "metadata": {},
   "outputs": [
    {
     "name": "stdout",
     "output_type": "stream",
     "text": [
      "Evaulation Metrics of Random Forest:\n",
      "Accuracy_DT: 0.901, Precision: 0.9, Recall: 0.9,F1_Score_DT:0.9\n",
      "Classification Report:\n",
      "              precision    recall  f1-score   support\n",
      "\n",
      "         1.0       0.91      0.97      0.94       497\n",
      "         2.0       0.81      0.58      0.68        88\n",
      "         3.0       0.87      0.75      0.81        53\n",
      "\n",
      "    accuracy                           0.90       638\n",
      "   macro avg       0.86      0.77      0.81       638\n",
      "weighted avg       0.90      0.90      0.90       638\n",
      "\n"
     ]
    }
   ],
   "source": [
    "#Print the Evaluation Metrics of the Decision Tree Classifier\n",
    "\n",
    "random.seed(42)\n",
    "np.random.seed(42)\n",
    "\n",
    "DT = accuracy_score(y_test, y_predict,)\n",
    "Precision_DT = precision_score(y_test, y_predict, average='weighted')\n",
    "Recall_DT = recall_score(y_test, y_predict, average='weighted')\n",
    "F1_DT = f1_score(y_test, y_predict, average='weighted')\n",
    "Classification_Report_DT = classification_report(y_test, y_predict)\n",
    "\n",
    "#These weighted scores of Precision, Recall and give a fair appreciation of the model performance \n",
    "print(\"Evaulation Metrics of Random Forest:\")\n",
    "print(f\"Accuracy_DT: {round(DT, 3)}, Precision: {round(Precision_DT, 2)}, Recall: {round(Recall_DT, 2)},\\\n",
    "F1_Score_DT:{round(F1_DT, 2)}\")\n",
    "print(\"Classification Report:\")\n",
    "print(Classification_Report_DT)"
   ]
  },
  {
   "cell_type": "code",
   "execution_count": 32,
   "id": "d169b538-fc67-4095-8580-43ad8b52a6f4",
   "metadata": {},
   "outputs": [
    {
     "name": "stdout",
     "output_type": "stream",
     "text": [
      "Best Hyperparameters: {'weights': 'distance', 'n_neighbors': 5}\n",
      "\n",
      "Accuracy: 0.897\n",
      "\n",
      "              precision    recall  f1-score     support\n",
      "1.0            0.926782  0.967807  0.946850  497.000000\n",
      "2.0            0.679487  0.602273  0.638554   88.000000\n",
      "3.0            0.926829  0.716981  0.808511   53.000000\n",
      "accuracy       0.896552  0.896552  0.896552    0.896552\n",
      "macro avg      0.844366  0.762354  0.797972  638.000000\n",
      "weighted avg   0.892677  0.896552  0.892835  638.000000\n",
      "1.3493845462799072\n"
     ]
    }
   ],
   "source": [
    "# Train the second model using K-nearst neighbors and with hyerparameter tuning and random search to select the optimal model.. 4\n",
    "from sklearn.model_selection import RandomizedSearchCV\n",
    "from sklearn.neighbors import KNeighborsClassifier\n",
    "# Define the hyperparameters and their possible values \n",
    "\n",
    "random.seed(42)\n",
    "np.random.seed(42)\n",
    "\n",
    "start_time = time.time()\n",
    "param_dist={'n_neighbors': [1,3,5, 7, 8, 9,11],\n",
    "                         'weights': ['uniform', 'distance']}\n",
    "\n",
    "model_2= KNeighborsClassifier()\n",
    "\n",
    "random_search_2 = RandomizedSearchCV(estimator=model_2, param_distributions= param_dist, cv=randint(3, 9), random_state=42)\n",
    "random_search_2.fit(X_train, y_train) \n",
    "best_model_2 = random_search_2.best_estimator_\n",
    "\n",
    "y_predict_2 = best_model_2.predict(X_test)\n",
    "accuracy_2 = round(accuracy_score(y_test, y_predict_2), 3)\n",
    "# Print the best hyperparameters\n",
    "end_time = time.time() \n",
    "elasped_time = end_time - start_time\n",
    "print(\"Best Hyperparameters:\", random_search_2.best_params_)\n",
    "print()\n",
    "print(\"Accuracy:\", accuracy_2)\n",
    "print()\n",
    "class_report_2 = classification_report(y_test, y_predict_2, output_dict=True)\n",
    "myreport_2 = pd.DataFrame(class_report_2).transpose()\n",
    "print(myreport_2)\n",
    "print(elasped_time)\n",
    "# Decison tree seems to perform better than KNN..."
   ]
  },
  {
   "cell_type": "code",
   "execution_count": 35,
   "id": "57b9a19a-b0be-4e16-8768-3c788b52661e",
   "metadata": {},
   "outputs": [
    {
     "name": "stdout",
     "output_type": "stream",
     "text": [
      "Evaulation Metrics of KNN:\n",
      "Accuracy_KNN: 0.897, Precision_KNN: 0.89, Recall_KNN: 0.9,F1_Score:0.89\n",
      "Classification Report:\n",
      "              precision    recall  f1-score   support\n",
      "\n",
      "         1.0       0.93      0.97      0.95       497\n",
      "         2.0       0.68      0.60      0.64        88\n",
      "         3.0       0.93      0.72      0.81        53\n",
      "\n",
      "    accuracy                           0.90       638\n",
      "   macro avg       0.84      0.76      0.80       638\n",
      "weighted avg       0.89      0.90      0.89       638\n",
      "\n"
     ]
    }
   ],
   "source": [
    "#Print the Evaluation Metrics of the KNN Classfier\n",
    "\n",
    "random.seed(42)\n",
    "np.random.seed(42)\n",
    "\n",
    "KNN = accuracy_score(y_test, y_predict_2,)\n",
    "Precision_KNN = precision_score(y_test, y_predict_2, average='weighted')\n",
    "Recall_KNN = recall_score(y_test, y_predict_2, average='weighted')\n",
    "F1_KNN = f1_score(y_test, y_predict_2, average='weighted')\n",
    "Classification_Report_KNN = classification_report(y_test, y_predict_2)\n",
    "\n",
    "#These weighted scores of Precision, Recall and give a fair appreciation of the model performance \n",
    "print(\"Evaulation Metrics of KNN:\")\n",
    "print(f\"Accuracy_KNN: {round(KNN, 3)}, Precision_KNN: {round(Precision_KNN, 2)}, Recall_KNN: {round(Recall_KNN, 2)},\\\n",
    "F1_Score:{round(F1_KNN, 2)}\")\n",
    "print(\"Classification Report:\")\n",
    "print(Classification_Report)"
   ]
  },
  {
   "cell_type": "code",
   "execution_count": 26,
   "id": "7dbe0b22-1010-465f-8685-e2e9e828d6fe",
   "metadata": {},
   "outputs": [
    {
     "name": "stdout",
     "output_type": "stream",
     "text": [
      "325.99582719802856\n",
      "Best Hyperparameters: {'n_estimators': 50, 'max_features': 'sqrt', 'criterion': 'entropy', 'class_weight': None, 'bootstrap': False}\n",
      "Best performance: 0.948252688172043\n"
     ]
    }
   ],
   "source": [
    "from sklearn.model_selection import RandomizedSearchCV\n",
    "from sklearn.ensemble import RandomForestClassifier\n",
    "random.seed(42)\n",
    "np.random.seed(42)\n",
    "\n",
    "# Define the hyperparameters and their possible values \n",
    "param_dist = {'n_estimators': [10, 50, 100],\n",
    "              'max_features': [None,'sqrt', 'log2'], 'criterion': ['gini','entropy'],\n",
    "             'bootstrap': [True, False],\n",
    "              'class_weight': [None, 'balanced', 'balanced_subsample']}\n",
    "\n",
    "\n",
    "# Create the model you want to tune\n",
    "model_3 = RandomForestClassifier(random_state=42)\n",
    "\n",
    "# Create a grid search object\n",
    "random_forest_3 = RandomizedSearchCV(estimator=model_3, param_distributions=param_dist, cv=randint(3, 9), n_iter = 10, random_state=42)\n",
    "\n",
    "# Fit the grid search to your data\n",
    "random_forest_3.fit(X_train, y_train)  # Replace X and y with your data\n",
    "best_model_3 = random_forest_3.best_estimator_\n",
    "\n",
    "y_predict_3 = best_model_3.predict(X_test)\n",
    "accuracy_3 = round(accuracy_score(y_test, y_predict_3), 3)\n",
    "# Print the best hyperparameters\n",
    "\n",
    "end_time = time.time() \n",
    "elasped_time = end_time - start_time\n",
    "print(elasped_time)\n",
    "print(\"Best Hyperparameters:\", random_forest_3.best_params_)\n",
    "print(\"Best performance:\", random_forest_3.best_score_)\n",
    "class_report_3 = classification_report(y_test, y_predict_3, output_dict=True)\n",
    "myreport_3 = pd.DataFrame(class_report_3).transpose()\n",
    "\n",
    "\n",
    "#The Randorm Forest with boostsrap perform well compare to all the other model and\n",
    "#even did extremly well in handling the imbalanced in the data.."
   ]
  },
  {
   "cell_type": "code",
   "execution_count": null,
   "id": "30e2bd86-d0eb-46b5-8ea5-db4902ea0ae8",
   "metadata": {},
   "outputs": [],
   "source": []
  },
  {
   "cell_type": "code",
   "execution_count": null,
   "id": "bb90ce74-94db-440b-81f7-037a6d2a436f",
   "metadata": {
    "scrolled": true
   },
   "outputs": [],
   "source": [
    "#Print the Evaluation Metrics of the Randorm Forest Classifier\n",
    "\n",
    "random.seed(42)\n",
    "np.random.seed(42)\n",
    "\n",
    "Random_Forest = accuracy_score(y_test, y_predict_3,)\n",
    "Precision = precision_score(y_test, y_predict_3, average='weighted')\n",
    "Recall = recall_score(y_test, y_predict_3, average='weighted')\n",
    "F1 = f1_score(y_test, y_predict_3, average='weighted')\n",
    "Classification_Report = classification_report(y_test, y_predict_3)\n",
    "\n",
    "#These weighted scores of Precision, Recall and give a fair appreciation of the model performance \n",
    "print(\"Evaulation Metrics of Random Forest:\")\n",
    "print(f\"Accuracy: {round(Random_Forest, 3)}, Precision: {round(Precision, 2)}, Recall: {round(Recall, 2)},\\\n",
    "F1_Score:{round(F1, 2)}\")\n",
    "print(\"Classification Report:\")\n",
    "print(Classification_Report)"
   ]
  },
  {
   "cell_type": "code",
   "execution_count": 55,
   "id": "22ca4fc0-7943-44b0-a3ec-d447e8394036",
   "metadata": {},
   "outputs": [
    {
     "data": {
      "image/png": "[encoded data removed]",
      "text/plain": [
       "<Figure size 1000x600 with 1 Axes>"
      ]
     },
     "metadata": {},
     "output_type": "display_data"
    }
   ],
   "source": [
    "import matplotlib.pyplot as plt\n",
    "import numpy as np\n",
    "\n",
    "# Plot the Performance Metrices of the Models of All the models so and see clearly which one stand out... \n",
    "data = {\n",
    "    \"Dummy Calssifier\": [Dummy, Precision_DU, Recall_DU, F1_DU],\n",
    "    \"Decision Tree\": [DT, Precision_DT, Recall_DT, F1_DT],\n",
    "    \"K-Nearest Neighbors\": [KNN, Precision_KNN, Recall_KNN, F1_KNN],\n",
    "    \"Random Forest\": [Random_Forest, Precision, Recall, F1]\n",
    "}\n",
    "\n",
    "metrics = [\"Accuracy\", \"Precision\", \"Recall\", \"F1\"]\n",
    "\n",
    "# Convert data to plot\n",
    "algorithms = list(data.keys())\n",
    "values = np.array(list(data.values()))\n",
    "\n",
    "# Bar properties\n",
    "bar_width = 0.2\n",
    "x = np.arange(len(metrics))\n",
    "\n",
    "# Plot the bars\n",
    "fig, ax = plt.subplots(figsize=(10, 6))\n",
    "for i, algorithm in enumerate(algorithms):\n",
    "    ax.bar(x + i * bar_width, values[i], width=bar_width, label=algorithm)\n",
    "\n",
    "# Customize the chart\n",
    "ax.set_xlabel(\"Performance Metrices\")\n",
    "ax.set_ylabel(\"Values\")\n",
    "ax.set_title(\"Performance Comparison of Algorithms\")\n",
    "ax.set_xticks(x + bar_width * (len(algorithms) - 1) / 2)\n",
    "ax.set_xticklabels(metrics)\n",
    "ax.legend()\n",
    "\n",
    "# Display the chart\n",
    "plt.tight_layout()\n",
    "plt.show()\n",
    "\n",
    "\n",
    "#From this plot, it can be seen clearly that Randomforest Perform Better accross almost all index metrices..\n"
   ]
  },
  {
   "cell_type": "code",
   "execution_count": null,
   "id": "519ffd8a-3bda-4189-bc3c-9467bd84bc63",
   "metadata": {},
   "outputs": [],
   "source": [
    "# The Data we worked with have many dimensions. \n",
    "# One area of interest in machine learning is to derive some form of expliantions from the model..\n",
    "# We may want to know which of these features contrubute mostly to the model performance.. \n",
    "# for this task, We will use Pertmutation Feature Importance.. \n",
    "# This involuve randomly shuffling features and seeing how the model changes \n",
    "\n",
    "seed=22\n",
    "from sklearn.inspection import permutation_importance\n",
    "#now we compute the permutation feature importance using the test set for the random forest\n",
    "result = permutation_importance(random_forest_3, X_test, y_test, n_repeats=10, random_state=seed)\n",
    "sorted_idx = result.importances_mean.argsort()\n",
    "\n",
    "# in the second subplot we will visualize the permutation feature importance in a box plot \n",
    "# (since we repeated the process 10 times, for accounting for the randomness of the shuffling)\n",
    "plt.figure(figsize=(12, 6)) \n",
    "plt.subplot(1,2,1)\n",
    "plt.boxplot(result.importances[sorted_idx].T, vert=False, labels=np.array(mydata.columns)[sorted_idx])\n",
    "plt.title(\"Permutation Feature Importance for the Random Forest\")\n",
    "fig.tight_layout()\n",
    "plt.show()\n",
    "\n",
    "# this plot helps us garner some form of transparancy from the model\n",
    "# and also help dicisions makers know when to make critical decision or act based on the model outcome.. "
   ]
  },
  {
   "cell_type": "code",
   "execution_count": 142,
   "id": "bd1a5ecb-fcd3-4589-b275-7cdf014ee218",
   "metadata": {},
   "outputs": [
    {
     "name": "stdout",
     "output_type": "stream",
     "text": [
      "              precision    recall  f1-score   support\n",
      "\n",
      "         1.0       0.94      0.97      0.95       497\n",
      "         2.0       0.77      0.67      0.72        88\n",
      "         3.0       0.88      0.85      0.87        53\n",
      "\n",
      "    accuracy                           0.92       638\n",
      "   macro avg       0.86      0.83      0.84       638\n",
      "weighted avg       0.91      0.92      0.91       638\n",
      "\n",
      "0.9153605015673981\n"
     ]
    }
   ],
   "source": [
    "from sklearn.ensemble import RandomForestClassifier\n",
    "from sklearn.metrics import accuracy_score, classification_report\n",
    "rf = RandomForestClassifier(random_state=0).fit(X_train, y_train)\n",
    "y_pred = rf.predict(X_test)\n",
    "\n",
    "rf_acc = accuracy_score(y_test, y_pred)\n",
    "print(classification_report(y_test, y_pred))\n",
    "print(rf_acc)"
   ]
  }
 ],
 "metadata": {
  "kernelspec": {
   "display_name": "Python 3 (ipykernel)",
   "language": "python",
   "name": "python3"
  },
  "language_info": {
   "codemirror_mode": {
    "name": "ipython",
    "version": 3
   },
   "file_extension": ".py",
   "mimetype": "text/x-python",
   "name": "python",
   "nbconvert_exporter": "python",
   "pygments_lexer": "ipython3",
   "version": "3.12.7"
  }
 },
 "nbformat": 4,
 "nbformat_minor": 5
}
